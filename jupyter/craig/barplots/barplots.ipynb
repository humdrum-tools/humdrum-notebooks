{
 "cells": [
  {
   "cell_type": "markdown",
   "metadata": {},
   "source": [
    "# Plotting bar charts in Jupyter"
   ]
  },
  {
   "cell_type": "markdown",
   "metadata": {},
   "source": [
    "__Craig Stuart Sapp__\n",
    "<br> 3 May 2018\n",
    "\n",
    "This jupyter notebook demonstrates how to load data from Humdrum files extracted with a command pipeline for plotting or otherwise analyzing the data further within the notebook. Plotting is done using the [pandas library](https://pandas.pydata.org).\n",
    "\n",
    "Note that [humdrum tools](https://github.com/humdrum-tools/humdrum-tools) has to be installed already and visible in the command-path to run the above command pipeline."
   ]
  },
  {
   "cell_type": "markdown",
   "metadata": {},
   "source": [
    "## Loading data from the command-line"
   ]
  },
  {
   "cell_type": "markdown",
   "metadata": {},
   "source": [
    "Below is an example of how to load data into jupyter from a shell command.  The command follows the `!` character near the start of the line in the cell below.  The result of the pipeline is stored as a list of strings, one for each line of text, in a variable called *input*.  The second line of the following cell causes the first 20 entries of the *input* variable to be shown, which is useful for checking on problems within the command pipeline."
   ]
  },
  {
   "cell_type": "code",
   "execution_count": 1,
   "metadata": {},
   "outputs": [
    {
     "name": "stdout",
     "output_type": "stream",
     "text": [
      "['1', '1', '6', '7', '1', '5', '6', '4', '3', '2', '1', '5', '1', '7', '1', '2', '3', '4', '5', '1']\n"
     ]
    }
   ],
   "source": [
    "input = ! humcat -s h://chorales | deg -at | serialize | ridx -H | egrep -v \"=|r\" \n",
    "print(input[0:20])"
   ]
  },
  {
   "cell_type": "markdown",
   "metadata": {},
   "source": [
    "The steps along the command pipeline are:\n",
    "\n",
    "<p align=\"left\">command | <p align=\"left\">meaning \n",
    ":--- | :--- \n",
    "<p align=\"left\">[humcat](http://extras.humdrum.org/man/humcat) -s h://chorales</p> | <p align=\"left\">Download all of the Bach chorales from the [kernscores](http://kern.ccarh.org/browse?l=chorales) website as a single stream of Humdrum data segments.\n",
    "<p align=\"left\">[deg](http://www.humdrum.org/Humdrum/commands/deg.html) -at | <p align=\"left\">Convert the **kern data into scale degrees.  The -a option removes direction information from the previous note, and the -t option does not repeat the scale degree information on a secondary tied notes.\n",
    "<p align=\"left\">[serialize](http://extras.humdrum.org/man/serialize) | <p align=\"left\">Convert the polyphonic score into a serial sequence of parts.\n",
    "<p align=\"left\">[ridx](http://extras.humdrum.org/man/ridx) -H | <p align=\"left\">Remove Humdrum syntax, leaving only data tokens (no null data token lines either).\n",
    "<p align=\"left\">[egrep](https://www.ibm.com/support/knowledgecenter/en/ssw_aix_72/com.ibm.aix.cmds2/egrep.htm) -v \"=&#124;r\" | <p align=\"left\">Remove text lines representing barlines or rests.\n",
    "\n",
    "\n",
    "The data extracted from the Bach chorales is a list of the scale degrees for all notes in the [h://chorales](http://kern.ccarh.org/browse?l=chorales) data set.  In other words, given the primary key of each chorale (not keeping track of modulations), the extracted data contains information about counts of notes by scale degree."
   ]
  },
  {
   "cell_type": "markdown",
   "metadata": {},
   "source": [
    "To see a list of all unique tokens in the input list:"
   ]
  },
  {
   "cell_type": "code",
   "execution_count": 2,
   "metadata": {},
   "outputs": [
    {
     "name": "stdout",
     "output_type": "stream",
     "text": [
      "['1', '1+', '1-', '2', '2+', '2-', '3', '3+', '3-', '4', '4+', '4-', '5', '5+', '5-', '6', '6+', '6-', '7', '7-']\n"
     ]
    }
   ],
   "source": [
    "unique = sorted(list(set(input)))\n",
    "print(unique)"
   ]
  },
  {
   "cell_type": "markdown",
   "metadata": {},
   "source": [
    "Scale degrees with a minus sign after them mean a semitone lower than in the scale (such as `3-` meaning E-flat in C major, where `3` means E).  And a plus following the scale-degree digit means higher by a semitone. Notice that one scale degree alteration case is missing...  "
   ]
  },
  {
   "cell_type": "markdown",
   "metadata": {},
   "source": [
    "## Plotting frequency data with pandas"
   ]
  },
  {
   "cell_type": "markdown",
   "metadata": {},
   "source": [
    "The [pandas library](https://pandas.pydata.org/) is useful for working with arrays of data, and it also has an interface to [matplotlib](https://matplotlib.org/), which is the main plotting library for python. To use *pandas*, first load the library with the following command:"
   ]
  },
  {
   "cell_type": "code",
   "execution_count": 3,
   "metadata": {},
   "outputs": [],
   "source": [
    "import pandas as pd"
   ]
  },
  {
   "cell_type": "markdown",
   "metadata": {},
   "source": [
    "Now that the data has been loaded into the notebook in the previous section, convert the `input`  list into a pandas [Series](https://pandas.pydata.org/pandas-docs/stable/generated/pandas.Series.html) object, and then plot the note counts for each scale degree:"
   ]
  },
  {
   "cell_type": "code",
   "execution_count": 4,
   "metadata": {},
   "outputs": [],
   "source": [
    "series = pd.Series(data=input)"
   ]
  },
  {
   "cell_type": "code",
   "execution_count": 6,
   "metadata": {},
   "outputs": [
    {
     "data": {
      "image/png": "[encoded data removed]",
      "text/plain": [
       "<Figure size 432x288 with 1 Axes>"
      ]
     },
     "metadata": {},
     "output_type": "display_data"
    }
   ],
   "source": [
    "ax = series.value_counts().plot.bar(title=\"Scale degrees used in Bach chorales\")\n",
    "ax.set_xlabel(\"scale degree\")\n",
    "ax.set_ylabel(\"number of note attacks\");"
   ]
  },
  {
   "cell_type": "markdown",
   "metadata": {},
   "source": [
    "## Changing the plot size"
   ]
  },
  {
   "cell_type": "markdown",
   "metadata": {},
   "source": [
    "Here is an example of how to change the size of the plot by adding the *figsize* paramter to *bar()*.  The units of the width and height values are in inches (10 inches wide and 3 inches high), although the plot will be scaled to the width of the cell if it is too large to fit.  Also notice a variant method of how a title can be added to the plot."
   ]
  },
  {
   "cell_type": "code",
   "execution_count": 19,
   "metadata": {},
   "outputs": [
    {
     "data": {
      "image/png": "[encoded data removed]",
      "text/plain": [
       "<Figure size 720x216 with 1 Axes>"
      ]
     },
     "metadata": {},
     "output_type": "display_data"
    }
   ],
   "source": [
    "ax = series.value_counts().plot.bar(figsize=(10, 3))\n",
    "ax.set_title(\"Scale degrees used in Bach chorales\")\n",
    "ax.set_xlabel(\"scale degree\")\n",
    "ax.set_ylabel(\"number of note attacks\");"
   ]
  },
  {
   "cell_type": "markdown",
   "metadata": {},
   "source": [
    "## Fractional counts on the y-axis"
   ]
  },
  {
   "cell_type": "markdown",
   "metadata": {},
   "source": [
    "Sometimes it is useful to normalize the counts of each category, such that the sum of all y-values is 1.  This allows for numeric comparisons between plots that have different overall count totals.  To display the counts as fractional frequencies, add `normalize=True` to the `value_counts()` function.  This example also demonstrates how to set the bars to a constant color."
   ]
  },
  {
   "cell_type": "code",
   "execution_count": 20,
   "metadata": {},
   "outputs": [
    {
     "data": {
      "image/png": "[encoded data removed]",
      "text/plain": [
       "<Figure size 720x288 with 1 Axes>"
      ]
     },
     "metadata": {},
     "output_type": "display_data"
    }
   ],
   "source": [
    "ax = (series.value_counts(normalize=True)\n",
    "      .plot.bar(rot=0, figsize=(10,4), color=\"#ccddee\"))\n",
    "ax.set_xlabel(\"scale degree\")\n",
    "ax.set_ylabel(\"number of note attacks (fraction)\")\n",
    "ax.set_title(\"Scale degrees used in Bach chorales\");"
   ]
  },
  {
   "cell_type": "markdown",
   "metadata": {},
   "source": [
    "## Logarithmic scaling of axes"
   ]
  },
  {
   "cell_type": "markdown",
   "metadata": {},
   "source": [
    "The rare scale-degree cases are hard to see, so if needed, you can scale the vertical axis logarithmically like this:"
   ]
  },
  {
   "cell_type": "code",
   "execution_count": 21,
   "metadata": {},
   "outputs": [
    {
     "data": {
      "image/png": "[encoded data removed]",
      "text/plain": [
       "<Figure size 432x288 with 1 Axes>"
      ]
     },
     "metadata": {},
     "output_type": "display_data"
    }
   ],
   "source": [
    "ax = series.value_counts().plot.bar(logy=True)\n",
    "ax.set_xlabel(\"scale degree\")\n",
    "ax.set_ylabel(\"number of note attacks\")\n",
    "ax.set_title(\"Scale degrees used in Bach chorales\");"
   ]
  },
  {
   "cell_type": "markdown",
   "metadata": {},
   "source": [
    "## Horizontal orientation of bars"
   ]
  },
  {
   "cell_type": "markdown",
   "metadata": {},
   "source": [
    "Another plot variant is to display the categories horizontally using the *barh* plotting function:"
   ]
  },
  {
   "cell_type": "code",
   "execution_count": 22,
   "metadata": {},
   "outputs": [
    {
     "data": {
      "image/png": "[encoded data removed]",
      "text/plain": [
       "<Figure size 432x288 with 1 Axes>"
      ]
     },
     "metadata": {},
     "output_type": "display_data"
    }
   ],
   "source": [
    "ax = series.value_counts(ascending=True).plot.barh(logx=True);\n",
    "ax.set_ylabel(\"scale degree\")\n",
    "ax.set_xlabel(\"number of note attacks (log scale)\")\n",
    "ax.set_title(\"Scale degrees used in Bach chorales\");"
   ]
  },
  {
   "cell_type": "markdown",
   "metadata": {},
   "source": [
    "## Sorting categories by scale degree"
   ]
  },
  {
   "cell_type": "markdown",
   "metadata": {},
   "source": [
    "This section describes how to sort categories on the plot by scale degree rather than frequency of the scale degrees.  First, define a function, called *sdorder*, that sorts the scale degrees in a musical fashion:"
   ]
  },
  {
   "cell_type": "code",
   "execution_count": 23,
   "metadata": {},
   "outputs": [
    {
     "name": "stdout",
     "output_type": "stream",
     "text": [
      "['1-', '1', '1+', '2-', '2', '2+', '3-', '3', '3+', '4-', '4', '4+', '5-', '5', '5+', '6-', '6', '6+', '7-', '7']\n"
     ]
    }
   ],
   "source": [
    "import re\n",
    "\n",
    "def sdorder(s):\n",
    "    p = re.compile(\"([0-9]+)([+-]?)\")\n",
    "    m = p.match(s)\n",
    "    v = int(m.group(1)) * 10;\n",
    "    if m.group(2) == '+':\n",
    "        v += 1\n",
    "    elif m.group(2) == '-':\n",
    "        v -= 1\n",
    "    return v\n",
    "    \n",
    "sdsequence = sorted(series.unique(), key=sdorder)\n",
    "print(sdsequence)"
   ]
  },
  {
   "cell_type": "markdown",
   "metadata": {},
   "source": [
    "Then with the list of unique sorted scale-degree values, *sdsequence*, use one of the following two forms to plot the data in scale degree order:"
   ]
  },
  {
   "cell_type": "code",
   "execution_count": 24,
   "metadata": {},
   "outputs": [
    {
     "data": {
      "image/png": "[encoded data removed]",
      "text/plain": [
       "<Figure size 432x288 with 1 Axes>"
      ]
     },
     "metadata": {},
     "output_type": "display_data"
    }
   ],
   "source": [
    "sdcategories = pd.api.types.CategoricalDtype(categories=sdsequence, ordered=True)\n",
    "newseries = series.astype(sdcategories)\n",
    "newseries.value_counts().sort_index().plot.bar();"
   ]
  },
  {
   "cell_type": "code",
   "execution_count": 25,
   "metadata": {},
   "outputs": [
    {
     "data": {
      "image/png": "[encoded data removed]",
      "text/plain": [
       "<Figure size 432x288 with 1 Axes>"
      ]
     },
     "metadata": {},
     "output_type": "display_data"
    }
   ],
   "source": [
    "newseries = pd.Series(pd.Categorical(input, ordered=True, categories=sdsequence))\n",
    "newseries.value_counts().sort_index().plot.bar();"
   ]
  },
  {
   "cell_type": "markdown",
   "metadata": {},
   "source": [
    "## Saving figures to files"
   ]
  },
  {
   "cell_type": "markdown",
   "metadata": {},
   "source": [
    "Plots can be saved to a file located in the same directory as the working/starting directory for the notebook (if the notebook is located on the desktop, the saved figures will be placed on the desktop).  Notice how the output format is controlled by the filename extension."
   ]
  },
  {
   "cell_type": "code",
   "execution_count": 26,
   "metadata": {},
   "outputs": [
    {
     "data": {
      "image/png": "[encoded data removed]",
      "text/plain": [
       "<Figure size 432x288 with 1 Axes>"
      ]
     },
     "metadata": {},
     "output_type": "display_data"
    }
   ],
   "source": [
    "newseries = pd.Series(pd.Categorical(input, ordered=True, categories=sdsequence))\n",
    "ax = newseries.value_counts().sort_index().plot.bar();\n",
    "ax.get_figure().savefig(\"myplot.png\")\n",
    "ax.get_figure().savefig(\"myplot.svg\")\n",
    "ax.get_figure().savefig(\"myplot.pdf\")"
   ]
  },
  {
   "cell_type": "markdown",
   "metadata": {},
   "source": [
    "## Plotting scale degrees by vocal part"
   ]
  },
  {
   "cell_type": "markdown",
   "metadata": {},
   "source": [
    "First extract the scale degree data by voice from the chorales. Data for individual voices are extracted using the [extractx](http://extras.humdrum.org/man/extractx) Humdrum Extras command.  All of the chorales are organized so that the first spine is the bass part, the tenor is the second, the alto is the third, and the soprano is the fourth.  Alternatively, the bass part could be extracted with the command `extractx -g Ibass` which would extract the part(s) that contain the string `Ibass` (from the instrument label interpretation).  Likewise `extractx -g I\\\"Bass` can also be used to extract the part based on the instrumental name."
   ]
  },
  {
   "cell_type": "code",
   "execution_count": 28,
   "metadata": {},
   "outputs": [],
   "source": [
    "input_bass = ! humcat -s h://chorales| extractx -s 1 | deg -at | serialize | ridx -H | egrep -v \"=|r\" \n",
    "input_tenor = ! humcat -s h://chorales| extractx -s 2 | deg -at | serialize | ridx -H | egrep -v \"=|r\" \n",
    "input_alto = ! humcat -s h://chorales| extractx -s 3 | deg -at | serialize | ridx -H | egrep -v \"=|r\" \n",
    "input_soprano = ! humcat -s h://chorales| extractx -s 4 | deg -at | serialize | ridx -H | egrep -v \"=|r\" "
   ]
  },
  {
   "cell_type": "markdown",
   "metadata": {},
   "source": [
    "Then create four panadas series for the data sorted by scale degree:"
   ]
  },
  {
   "cell_type": "code",
   "execution_count": 29,
   "metadata": {},
   "outputs": [],
   "source": [
    "voices = [None] * 4\n",
    "voices[0] = pd.Series(pd.Categorical(input_soprano, ordered=True, categories=sdsequence))\n",
    "voices[1] = pd.Series(pd.Categorical(input_alto, ordered=True, categories=sdsequence))\n",
    "voices[2] = pd.Series(pd.Categorical(input_tenor, ordered=True, categories=sdsequence))\n",
    "voices[3] = pd.Series(pd.Categorical(input_bass, ordered=True, categories=sdsequence))\n"
   ]
  },
  {
   "cell_type": "markdown",
   "metadata": {},
   "source": [
    "Finally create a figure with four subplots and fill it in:"
   ]
  },
  {
   "cell_type": "code",
   "execution_count": 36,
   "metadata": {},
   "outputs": [
    {
     "data": {
      "image/png": "[encoded data removed]",
      "text/plain": [
       "<Figure size 720x360 with 4 Axes>"
      ]
     },
     "metadata": {},
     "output_type": "display_data"
    }
   ],
   "source": [
    "import matplotlib.pyplot as plt\n",
    "fig, axes = plt.subplots(nrows=2, ncols=2)\n",
    "ax0 = voices[0].value_counts().sort_index().plot.bar(ax=axes[0,0])\n",
    "ax1 = voices[1].value_counts().sort_index().plot.bar(ax=axes[0,1])\n",
    "ax2 = voices[2].value_counts().sort_index().plot.bar(ax=axes[1,0])\n",
    "ax3 = voices[3].value_counts().sort_index().plot.bar(ax=axes[1,1])\n",
    "ax0.set_title(\"soprano\")\n",
    "ax1.set_title(\"alto\")\n",
    "ax2.set_title(\"tenor\")\n",
    "ax3.set_title(\"bass\")\n",
    "fig.suptitle(\"Scale-degree counts in Bach chorales by voice\")\n",
    "fig.tight_layout(rect=[0,0.03,1,0.95])\n",
    "fig.set_size_inches(10,5)"
   ]
  },
  {
   "cell_type": "markdown",
   "metadata": {},
   "source": [
    "Notice that the soprano part focuses on scale degrees 2, 3, and 4 much more than the alto or bass parts do.  The soprano focuses on the third slightly more than the root, and the tenor noticeably focuses on the 5th scale degree more than other voices."
   ]
  },
  {
   "cell_type": "markdown",
   "metadata": {},
   "source": [
    "## Downloading Humdrum files to disk"
   ]
  },
  {
   "cell_type": "markdown",
   "metadata": {},
   "source": [
    "The previous examples always download the entire Bach chorale dataset every time they are needed for one of the command pipelines.  This does not happen too often (only 5 times in all of the above cells), but if you need to store a local copy, this section demonstrates how to do that.  In the following cell a directory called `~/Desktop/mychorales` is created, then the working location is changed to that directory, and then the chorales are downloaded with the [humsplit](http://extras.humdrum.org/man/humsplit) command.  The first two commands are [magic commands](http://ipython.readthedocs.io/en/stable/interactive/magics.html) for jupyter, but could also be done as regular shell commands like the third command, prefixing the command with `!` rather than `%`."
   ]
  },
  {
   "cell_type": "code",
   "execution_count": 39,
   "metadata": {},
   "outputs": [
    {
     "name": "stdout",
     "output_type": "stream",
     "text": [
      "['chor001.krn', 'chor002.krn', 'chor003.krn', 'chor004.krn', 'chor005.krn']\n",
      "Number of files: 370\n"
     ]
    }
   ],
   "source": [
    "%mkdir -p ~/Desktop/mychorales\n",
    "%cd ~/Desktop/mychorales\n",
    "!humsplit h://chorales\n",
    "filelist = ! ls *.krn\n",
    "print(filelist[0:5])\n",
    "print(\"Number of files:\", len(filelist))"
   ]
  },
  {
   "cell_type": "markdown",
   "metadata": {},
   "source": [
    "Now the command pipeline can access the local copy of the chorales for more intensive, and probably faster, use:"
   ]
  },
  {
   "cell_type": "code",
   "execution_count": 40,
   "metadata": {},
   "outputs": [
    {
     "name": "stdout",
     "output_type": "stream",
     "text": [
      "['1', '1', '6', '7', '1', '5', '6', '4', '3', '2', '1', '5', '1', '7', '1', '2', '3', '4', '5', '1']\n"
     ]
    }
   ],
   "source": [
    "localinput = ! cat *.krn | deg -at | serialize | ridx -H | egrep -v \"=|r\" \n",
    "print(localinput[0:20])"
   ]
  },
  {
   "cell_type": "markdown",
   "metadata": {},
   "source": [
    "Alternatively, you can access the files by indicating the directory that they are stored in, rather than depending on being within a particular directory:"
   ]
  },
  {
   "cell_type": "code",
   "execution_count": 41,
   "metadata": {},
   "outputs": [
    {
     "name": "stdout",
     "output_type": "stream",
     "text": [
      "['1', '1', '6', '7', '1', '5', '6', '4', '3', '2', '1', '5', '1', '7', '1', '2', '3', '4', '5', '1']\n"
     ]
    }
   ],
   "source": [
    "localinput2 = ! humcat -s ~/Desktop/mychorales/*.krn | deg -at | serialize | ridx -H | egrep -v \"=|r\" \n",
    "print(localinput2[0:20])"
   ]
  },
  {
   "cell_type": "markdown",
   "metadata": {},
   "source": [
    "## Comparison of major/minor modes"
   ]
  },
  {
   "cell_type": "markdown",
   "metadata": {},
   "source": [
    "This section demonstrates how to group works by mode into major and minor key groups.  In the previous sections, pitches were processed by scale degress, but in this section they are processed by pitch classes in terms of semitones relative to the tonic (first) note of the key.  For example the tonic is assigned to be 0, the second scale degree is 2, since it is two semitones above the tonic pitch; the 5th scale degree is assigned 7, and so on."
   ]
  },
  {
   "cell_type": "markdown",
   "metadata": {},
   "source": [
    "First, create separate lists for the major and minor chorale filenames.  There are 177 chorales in the minor mode, and 193 in the major mode:"
   ]
  },
  {
   "cell_type": "code",
   "execution_count": 42,
   "metadata": {},
   "outputs": [
    {
     "data": {
      "text/plain": [
       "177"
      ]
     },
     "execution_count": 42,
     "metadata": {},
     "output_type": "execute_result"
    }
   ],
   "source": [
    "minorfiles = ! egrep -l '^\\*[a-g][-#]*:' ~/Desktop/mychorales/*.krn\n",
    "len(minorfiles)"
   ]
  },
  {
   "cell_type": "code",
   "execution_count": 43,
   "metadata": {},
   "outputs": [
    {
     "data": {
      "text/plain": [
       "193"
      ]
     },
     "execution_count": 43,
     "metadata": {},
     "output_type": "execute_result"
    }
   ],
   "source": [
    "majorfiles = ! egrep -l '^\\*[A-G][-#]*:' ~/Desktop/mychorales/*.krn\n",
    "len(majorfiles)"
   ]
  },
  {
   "cell_type": "code",
   "execution_count": 44,
   "metadata": {},
   "outputs": [
    {
     "data": {
      "text/plain": [
       "370"
      ]
     },
     "execution_count": 44,
     "metadata": {},
     "output_type": "execute_result"
    }
   ],
   "source": [
    "len(minorfiles) + len(majorfiles)"
   ]
  },
  {
   "cell_type": "markdown",
   "metadata": {},
   "source": [
    "Notice the regular expression `'^\\*[a-g][-#]*:'` which will match to minor key designations in the files.  For example C minor is expressed in `**kern` data as \"`*c:`\", and B-flat major is \"`*B-:`\".  The regular expression will match strings in this form with \"`^`\" matching to the start of the line, \"`\\*`\" matching to the asterisk (needs a backslash since an asterisk by itself has a special meaning), then `[a-g]` will match to *one* of the characters in the set (a, b, c, d, e, f, g); the `[-#]*` means zero or more of the characters `-` or `#`, followed by a regular colon character, `:`."
   ]
  },
  {
   "cell_type": "markdown",
   "metadata": {},
   "source": [
    "Now that lists for the major and minor mode files have been created, use those lists to extract the pitch-class information for each subset of the chorales.  New commands in the pipeline are:\n",
    "\n",
    "<p align=\"left\">command | <p align=\"left\">meaning \n",
    ":--- | :--- \n",
    "<p align=\"left\"><tt>[cat](https://www.tecmint.com/13-basic-cat-command-examples-in-linux) \\$filelist</tt></p> | <p align=\"left\">Concatenate all of the filenames in the $filelist python string variable.\n",
    "<p align=\"left\"><tt>[transpose](http://extras.humdrum.org/man/transpose) -k c</tt></p> | <p align=\"left\">Transpose the music to the key of C major/minor (requires a key designation in the files).\n",
    "<p align=\"left\"><tt>[kern](http://www.humdrum.org/Humdrum/commands/kern.html) -x</tt></p> | <p align=\"left\">Remove all non-pitch information from `**kern` spine data.\n",
    "<p align=\"left\"><tt>[pc](http://www.humdrum.org/Humdrum/commands/pc.html) -x</tt></p> | <p align=\"left\">Convert pitches into pitch-class numbers (C=0, C-sharp/D-flat=1, D=2, etc.)\n",
    "<p align=\"left\"><tt>[egrep](https://www.computerhope.com/unix/uegrep.htm) -v \"[]=r_]\"</tt></p> | <p align=\"left\">Remove barlines (`=`), rests (`r`), ending tied notes (`]`) and intermediate tied notes(`_`).\n",
    "<p align=\"left\"><tt>[sed](http://www.grymoire.com/Unix/Sed.html) 's/\\[//g'</tt></p> | <p align=\"left\">Remove tie-start marker from analysis data.    \n",
    "\n",
    "\n",
    "\n"
   ]
  },
  {
   "cell_type": "code",
   "execution_count": 45,
   "metadata": {},
   "outputs": [
    {
     "name": "stdout",
     "output_type": "stream",
     "text": [
      "['0', '0', '9', '11', '0', '7', '9', '5', '4', '2']\n"
     ]
    }
   ],
   "source": [
    "filelist = \" \".join(majorfiles)\n",
    "majorinput = ! cat $filelist | transpose -k c | kern -x | pc \\\n",
    "        | serialize | ridx -H | egrep -v \"[]=r_]\" | sed 's/\\[//g'\n",
    "print(majorinput[0:10])"
   ]
  },
  {
   "cell_type": "code",
   "execution_count": 46,
   "metadata": {},
   "outputs": [
    {
     "name": "stdout",
     "output_type": "stream",
     "text": [
      "['7', '0', '2', '3', '2', '0', '11', '0', '7', '2']\n"
     ]
    }
   ],
   "source": [
    "filelist = \" \".join(minorfiles)\n",
    "minorinput = ! cat $filelist | transpose -k c | kern -x | pc \\\n",
    "        | serialize | ridx -H | egrep -v \"[]=|r_]\" | sed 's/\\[//g'\n",
    "print(minorinput[0:10])"
   ]
  },
  {
   "cell_type": "markdown",
   "metadata": {},
   "source": [
    "For sorting purposes when creating the plots further below, the pitch classes should be converted from strings into integers.  This is done with the \"`dtype=int`\" option when creating the pandas series:"
   ]
  },
  {
   "cell_type": "code",
   "execution_count": 47,
   "metadata": {},
   "outputs": [],
   "source": [
    "majorseries = pd.Series(data=majorinput, dtype=int)\n",
    "minorseries = pd.Series(data=minorinput, dtype=int)"
   ]
  },
  {
   "cell_type": "markdown",
   "metadata": {},
   "source": [
    "Now plot counts of the pitch-class/scale-degree data for each mode.  There are two plots generated for each mode (1) a list of the counts sorted by occurrence, and (2) a list in chromatic order.  Notice in particular that the third scale degree occurs at pc=4 in major modes, but pc=3 in minor modes."
   ]
  },
  {
   "cell_type": "code",
   "execution_count": 48,
   "metadata": {},
   "outputs": [
    {
     "data": {
      "image/png": "[encoded data removed]",
      "text/plain": [
       "<Figure size 864x288 with 2 Axes>"
      ]
     },
     "metadata": {},
     "output_type": "display_data"
    }
   ],
   "source": [
    "import matplotlib.pyplot as plt\n",
    "fig, axes = plt.subplots(ncols=2)\n",
    "ax0 = majorseries.value_counts().plot.bar(ax=axes[0], color=\"#aa99ee\")\n",
    "ax1 = majorseries.value_counts().sort_index().plot.bar(ax=axes[1], color=\"#aa99ee\")\n",
    "ax0.set_title(\"sorted by occurrence\")\n",
    "ax1.set_title(\"sorted by pitch class\")\n",
    "ax0.set_xlabel(\"pitch class semitones relative to tonic note\")\n",
    "ax1.set_xlabel(\"pitch class semitones relative to tonic note\")\n",
    "ax0.set_ylabel(\"note counts\")\n",
    "fig.suptitle(\"PC scale-degree counts in major Bach chorales\")\n",
    "fig.set_size_inches(12,4)"
   ]
  },
  {
   "cell_type": "code",
   "execution_count": 49,
   "metadata": {},
   "outputs": [
    {
     "data": {
      "image/png": "[encoded data removed]",
      "text/plain": [
       "<Figure size 864x288 with 2 Axes>"
      ]
     },
     "metadata": {},
     "output_type": "display_data"
    }
   ],
   "source": [
    "fig, axes = plt.subplots(ncols=2)\n",
    "ax0 = minorseries.value_counts().plot.bar(ax=axes[0], color=\"#aa99ee\")\n",
    "ax1 = minorseries.value_counts().sort_index().plot.bar(ax=axes[1], color=\"#aa99ee\")\n",
    "ax0.set_title(\"sorted by occurrence\")\n",
    "ax1.set_title(\"sorted by pitch class\")\n",
    "ax0.set_xlabel(\"pitch class semitones relative to tonic note\")\n",
    "ax1.set_xlabel(\"pitch class semitones relative to tonic note\")\n",
    "ax0.set_ylabel(\"note counts\")\n",
    "fig.suptitle(\"PC scale-degree counts in minor Bach chorales\")\n",
    "fig.set_size_inches(12,4)"
   ]
  },
  {
   "cell_type": "markdown",
   "metadata": {},
   "source": [
    "Plotting the major/minor plots side by side for each variant:"
   ]
  },
  {
   "cell_type": "code",
   "execution_count": 50,
   "metadata": {},
   "outputs": [
    {
     "data": {
      "image/png": "[encoded data removed]",
      "text/plain": [
       "<Figure size 864x288 with 2 Axes>"
      ]
     },
     "metadata": {},
     "output_type": "display_data"
    }
   ],
   "source": [
    "fig, axes = plt.subplots(ncols=2)\n",
    "ax0 = majorseries.value_counts().plot.bar(ax=axes[0], color=\"#aa99ee\")\n",
    "ax1 = minorseries.value_counts().plot.bar(ax=axes[1], color=\"#aa99ee\")\n",
    "ax0.set_title(\"Major keys\")\n",
    "ax1.set_title(\"Minor keys\")\n",
    "ax0.set_xlabel(\"pitch-class semitones relative to tonic note\")\n",
    "ax1.set_xlabel(\"pitch-class semitones relative to tonic note\")\n",
    "ax0.set_ylabel(\"note counts\")\n",
    "fig.suptitle(\"PC scale-degree counts in Bach chorales\")\n",
    "fig.set_size_inches(12,4)"
   ]
  },
  {
   "cell_type": "code",
   "execution_count": 51,
   "metadata": {},
   "outputs": [
    {
     "data": {
      "image/png": "[encoded data removed]",
      "text/plain": [
       "<Figure size 864x288 with 2 Axes>"
      ]
     },
     "metadata": {},
     "output_type": "display_data"
    }
   ],
   "source": [
    "fig, axes = plt.subplots(ncols=2)\n",
    "ax0 = majorseries.value_counts().sort_index().plot.bar(ax=axes[0], color=\"#aa99ee\")\n",
    "ax1 = minorseries.value_counts().sort_index().plot.bar(ax=axes[1], color=\"#aa99ee\")\n",
    "ax0.set_title(\"Major keys\")\n",
    "ax1.set_title(\"Minor keys\")\n",
    "ax0.set_xlabel(\"pitch-class semitones relative to tonic note\")\n",
    "ax1.set_xlabel(\"pitch-class semitones relative to tonic note\")\n",
    "ax0.set_ylabel(\"note counts\")\n",
    "fig.suptitle(\"PC scale-degree counts in Bach chorales\")\n",
    "fig.set_size_inches(12,4)"
   ]
  },
  {
   "cell_type": "markdown",
   "metadata": {},
   "source": [
    "Below is an example of stacked plots to merge the two above plots into a single plot.  First the major and minor counts are extracted to separate lists:"
   ]
  },
  {
   "cell_type": "code",
   "execution_count": 52,
   "metadata": {},
   "outputs": [
    {
     "data": {
      "text/plain": [
       "[7876, 316, 5946, 88, 6078, 4181, 836, 8176, 333, 4977, 521, 4106]"
      ]
     },
     "execution_count": 52,
     "metadata": {},
     "output_type": "execute_result"
    }
   ],
   "source": [
    "majorhist = majorseries.value_counts().sort_index().tolist()\n",
    "majorhist"
   ]
  },
  {
   "cell_type": "code",
   "execution_count": 53,
   "metadata": {},
   "outputs": [
    {
     "data": {
      "text/plain": [
       "[7115, 337, 4775, 5632, 555, 5254, 343, 7452, 2784, 1135, 4207, 1643]"
      ]
     },
     "execution_count": 53,
     "metadata": {},
     "output_type": "execute_result"
    }
   ],
   "source": [
    "minorhist = minorseries.value_counts().sort_index().tolist()\n",
    "minorhist"
   ]
  },
  {
   "cell_type": "markdown",
   "metadata": {},
   "source": [
    "Nomalize the difference between major and minor notecounts:"
   ]
  },
  {
   "cell_type": "code",
   "execution_count": 54,
   "metadata": {},
   "outputs": [],
   "source": [
    "df = pd.DataFrame()\n",
    "df[\"major\"] = majorhist\n",
    "df[\"minor\"] = minorhist\n",
    "df[\"major\"] *= 100 / df[\"major\"].sum()\n",
    "df[\"minor\"] *= 100 / df[\"minor\"].sum()"
   ]
  },
  {
   "cell_type": "code",
   "execution_count": 56,
   "metadata": {},
   "outputs": [
    {
     "data": {
      "image/png": "[encoded data removed]",
      "text/plain": [
       "<Figure size 720x360 with 1 Axes>"
      ]
     },
     "metadata": {},
     "output_type": "display_data"
    }
   ],
   "source": [
    "ax = df.plot.bar(stacked=True, figsize=(10,5))\n",
    "ax.set_title(\"Difference between major and minor scale-degree distributions in Bach chorales\")\n",
    "ax.set_xlabel(\"pitch-class semitones above tonic\")\n",
    "ax.axes.get_yaxis().set_visible(False);"
   ]
  },
  {
   "cell_type": "markdown",
   "metadata": {},
   "source": [
    "The largest difference is that major keys use the 4th semitone above tonic (major 3rd), while the minor keys use the 3rd semitone above the tonie (minor 3rd). Also semitones 8 and 10 are mostly used by minor keys, while 9 and 10 are used by major keys.  For major keys, there is more 6, probably functioning as a leading tone to a tonicization of the dominant (7).  Minor key chorales also use a little more of the subdominant scale-degree (5)."
   ]
  },
  {
   "cell_type": "markdown",
   "metadata": {},
   "source": [
    "## Beyond major and minor"
   ]
  },
  {
   "cell_type": "markdown",
   "metadata": {},
   "source": [
    "The Bach choral sets has music in other modes besides major and minor.  For the above analyses, modes such as dorian are assigned to the minor category, and mixolydian chorales are assigned to the major category. However, the Bach chorale data set contains mode indiations for non-major/-minor modes, such as dorian, phrygian and mixolydian.  For example the indication for D dorian is \"`*d:dor` and C mixolydian is \"`*C:mix`.  The letter of the pitch name depends on the third scale degree of the mode: a minor third will use a lower-cases tonic letter, since it is more similar to minor keys and to major ones.  But in the following calles to `egrep` the `-i` option is used to ignore the letter cases.\n",
    "\n",
    "Here are the counts of chorales in non-major/-minor modes:"
   ]
  },
  {
   "cell_type": "code",
   "execution_count": 57,
   "metadata": {},
   "outputs": [
    {
     "data": {
      "text/plain": [
       "37"
      ]
     },
     "execution_count": 57,
     "metadata": {},
     "output_type": "execute_result"
    }
   ],
   "source": [
    "# dorian mode\n",
    "dorfiles = ! egrep -il '^\\*[a-g][-#]*:dor' ~/Desktop/mychorales/*.krn\n",
    "len(dorfiles)"
   ]
  },
  {
   "cell_type": "code",
   "execution_count": 58,
   "metadata": {},
   "outputs": [
    {
     "data": {
      "text/plain": [
       "2"
      ]
     },
     "execution_count": 58,
     "metadata": {},
     "output_type": "execute_result"
    }
   ],
   "source": [
    "# phrygian mode\n",
    "phrfiles = ! egrep -il '^\\*[a-g][-#]*:phr' ~/Desktop/mychorales/*.krn\n",
    "len(phrfiles)"
   ]
  },
  {
   "cell_type": "code",
   "execution_count": 59,
   "metadata": {},
   "outputs": [
    {
     "data": {
      "text/plain": [
       "0"
      ]
     },
     "execution_count": 59,
     "metadata": {},
     "output_type": "execute_result"
    }
   ],
   "source": [
    "# lydian mode\n",
    "lydfiles = ! egrep -il '^\\*[a-g][-#]*:lyd' ~/Desktop/mychorales/*.krn\n",
    "len(lydfiles)"
   ]
  },
  {
   "cell_type": "code",
   "execution_count": 60,
   "metadata": {},
   "outputs": [
    {
     "data": {
      "text/plain": [
       "9"
      ]
     },
     "execution_count": 60,
     "metadata": {},
     "output_type": "execute_result"
    }
   ],
   "source": [
    "# mixolydian mode\n",
    "mixfiles = ! egrep -il '^\\*[a-g][-#]*:mix' ~/Desktop/mychorales/*.krn\n",
    "len(mixfiles)"
   ]
  },
  {
   "cell_type": "code",
   "execution_count": 61,
   "metadata": {},
   "outputs": [
    {
     "data": {
      "text/plain": [
       "0"
      ]
     },
     "execution_count": 61,
     "metadata": {},
     "output_type": "execute_result"
    }
   ],
   "source": [
    "# locrian mode\n",
    "locfiles = ! egrep -il '^\\*[a-g][-#]*:loc' ~/Desktop/mychorales/*.krn\n",
    "len(locfiles)"
   ]
  },
  {
   "cell_type": "code",
   "execution_count": 64,
   "metadata": {},
   "outputs": [
    {
     "data": {
      "text/plain": [
       "48"
      ]
     },
     "execution_count": 64,
     "metadata": {},
     "output_type": "execute_result"
    }
   ],
   "source": [
    "# all non-major/-minor keys\n",
    "modefiles = ! egrep -il '^\\*[a-g][-#]*:[a-z][a-z][a-z]' ~/Desktop/mychorales/*.krn\n",
    "len(modefiles)"
   ]
  },
  {
   "cell_type": "markdown",
   "metadata": {},
   "source": [
    "Add the data from the 37 dorian files to the stacked scale-degree plot:"
   ]
  },
  {
   "cell_type": "code",
   "execution_count": 65,
   "metadata": {},
   "outputs": [
    {
     "data": {
      "image/png": "[encoded data removed]",
      "text/plain": [
       "<Figure size 720x360 with 1 Axes>"
      ]
     },
     "metadata": {},
     "output_type": "display_data"
    }
   ],
   "source": [
    "filelist = \" \".join(dorfiles)\n",
    "dorinput = ! cat $filelist | transpose -k c | kern -x | pc \\\n",
    "    | serialize | ridx -H | egrep -v \"[]=|r_]\" | sed 's/\\[//g'\n",
    "dorseries = pd.Series(data=dorinput, dtype=int)\n",
    "dorhist = dorseries.value_counts().sort_index().tolist()\n",
    "df[\"dorian\"] = dorhist\n",
    "df[\"dorian\"] *= 100 / df[\"dorian\"].sum()\n",
    "ax = df.plot.bar(stacked=True, figsize=(10,5))\n",
    "ax.set_title(\"Relative differences between major, minor and dorian scale degrees in Bach chorales\")\n",
    "ax.set_xlabel(\"pitch-class semitones above tonic\")\n",
    "ax.axes.get_yaxis().set_visible(False)"
   ]
  },
  {
   "cell_type": "markdown",
   "metadata": {},
   "source": [
    "Here is a table of the data used to produce the plots.  Each column sums to 100%."
   ]
  },
  {
   "cell_type": "code",
   "execution_count": 67,
   "metadata": {},
   "outputs": [
    {
     "data": {
      "text/html": [
       "<div>\n",
       "<style scoped>\n",
       "    .dataframe tbody tr th:only-of-type {\n",
       "        vertical-align: middle;\n",
       "    }\n",
       "\n",
       "    .dataframe tbody tr th {\n",
       "        vertical-align: top;\n",
       "    }\n",
       "\n",
       "    .dataframe thead th {\n",
       "        text-align: right;\n",
       "    }\n",
       "</style>\n",
       "<table border=\"1\" class=\"dataframe\">\n",
       "  <thead>\n",
       "    <tr style=\"text-align: right;\">\n",
       "      <th></th>\n",
       "      <th>major</th>\n",
       "      <th>minor</th>\n",
       "      <th>dorian</th>\n",
       "    </tr>\n",
       "  </thead>\n",
       "  <tbody>\n",
       "    <tr>\n",
       "      <th>0</th>\n",
       "      <td>18.133260</td>\n",
       "      <td>17.256015</td>\n",
       "      <td>17.264121</td>\n",
       "    </tr>\n",
       "    <tr>\n",
       "      <th>1</th>\n",
       "      <td>0.727541</td>\n",
       "      <td>0.817326</td>\n",
       "      <td>0.510584</td>\n",
       "    </tr>\n",
       "    <tr>\n",
       "      <th>2</th>\n",
       "      <td>13.689736</td>\n",
       "      <td>11.580811</td>\n",
       "      <td>12.498670</td>\n",
       "    </tr>\n",
       "    <tr>\n",
       "      <th>3</th>\n",
       "      <td>0.202606</td>\n",
       "      <td>13.659294</td>\n",
       "      <td>12.785874</td>\n",
       "    </tr>\n",
       "    <tr>\n",
       "      <th>4</th>\n",
       "      <td>13.993646</td>\n",
       "      <td>1.346042</td>\n",
       "      <td>1.404106</td>\n",
       "    </tr>\n",
       "    <tr>\n",
       "      <th>5</th>\n",
       "      <td>9.626099</td>\n",
       "      <td>12.742530</td>\n",
       "      <td>11.988086</td>\n",
       "    </tr>\n",
       "    <tr>\n",
       "      <th>6</th>\n",
       "      <td>1.924759</td>\n",
       "      <td>0.831878</td>\n",
       "      <td>1.233911</td>\n",
       "    </tr>\n",
       "    <tr>\n",
       "      <th>7</th>\n",
       "      <td>18.823963</td>\n",
       "      <td>18.073341</td>\n",
       "      <td>18.966067</td>\n",
       "    </tr>\n",
       "    <tr>\n",
       "      <th>8</th>\n",
       "      <td>0.766680</td>\n",
       "      <td>6.752037</td>\n",
       "      <td>5.924902</td>\n",
       "    </tr>\n",
       "    <tr>\n",
       "      <th>9</th>\n",
       "      <td>11.458765</td>\n",
       "      <td>2.752716</td>\n",
       "      <td>3.467716</td>\n",
       "    </tr>\n",
       "    <tr>\n",
       "      <th>10</th>\n",
       "      <td>1.199521</td>\n",
       "      <td>10.203240</td>\n",
       "      <td>9.584087</td>\n",
       "    </tr>\n",
       "    <tr>\n",
       "      <th>11</th>\n",
       "      <td>9.453424</td>\n",
       "      <td>3.984769</td>\n",
       "      <td>4.371875</td>\n",
       "    </tr>\n",
       "  </tbody>\n",
       "</table>\n",
       "</div>"
      ],
      "text/plain": [
       "        major      minor     dorian\n",
       "0   18.133260  17.256015  17.264121\n",
       "1    0.727541   0.817326   0.510584\n",
       "2   13.689736  11.580811  12.498670\n",
       "3    0.202606  13.659294  12.785874\n",
       "4   13.993646   1.346042   1.404106\n",
       "5    9.626099  12.742530  11.988086\n",
       "6    1.924759   0.831878   1.233911\n",
       "7   18.823963  18.073341  18.966067\n",
       "8    0.766680   6.752037   5.924902\n",
       "9   11.458765   2.752716   3.467716\n",
       "10   1.199521  10.203240   9.584087\n",
       "11   9.453424   3.984769   4.371875"
      ]
     },
     "execution_count": 67,
     "metadata": {},
     "output_type": "execute_result"
    }
   ],
   "source": [
    "df"
   ]
  },
  {
   "cell_type": "markdown",
   "metadata": {},
   "source": [
    "Try using the above data for dorian modes in [keycor](http://extras.humdrum.org/man/keycor)."
   ]
  },
  {
   "cell_type": "markdown",
   "metadata": {},
   "source": [
    "## Further reading for pandas"
   ]
  },
  {
   "cell_type": "markdown",
   "metadata": {},
   "source": [
    "See [this documentation](https://pandas.pydata.org/pandas-docs/stable/visualization.html) for more plotting possibilities with pandas.  And the [API Reference](https://pandas.pydata.org/pandas-docs/stable/api.html#api-dataframe-plotting) for pandas."
   ]
  },
  {
   "cell_type": "markdown",
   "metadata": {},
   "source": [
    "Review the  [Series](https://pandas.pydata.org/pandas-docs/stable/dsintro.html#series) object documentation, which lists various functions that you can use for manipulation series data."
   ]
  },
  {
   "cell_type": "markdown",
   "metadata": {},
   "source": [
    "Blog dated 16 Mar 2017 about [Pandas & Seaborn](https://tryolabs.com/blog/2017/03/16/pandas-seaborn-a-guide-to-handle-visualize-data-elegantly)."
   ]
  },
  {
   "cell_type": "markdown",
   "metadata": {},
   "source": [
    "Seaborn is a data visualization library for python.  See [Seaborn aesthetics](https://seaborn.pydata.org/tutorial/aesthetics.html) tutorial."
   ]
  },
  {
   "cell_type": "markdown",
   "metadata": {},
   "source": [
    "See [this documentation](https://seaborn.pydata.org/tutorial/categorical.html) about plotting categorical data with seaborn."
   ]
  }
 ],
 "metadata": {
  "kernelspec": {
   "display_name": "Python 3",
   "language": "python",
   "name": "python3"
  },
  "language_info": {
   "codemirror_mode": {
    "name": "ipython",
    "version": 3
   },
   "file_extension": ".py",
   "mimetype": "text/x-python",
   "name": "python",
   "nbconvert_exporter": "python",
   "pygments_lexer": "ipython3",
   "version": "3.6.5"
  }
 },
 "nbformat": 4,
 "nbformat_minor": 2
}
